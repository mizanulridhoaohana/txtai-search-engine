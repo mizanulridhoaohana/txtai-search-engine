{
 "cells": [
  {
   "cell_type": "code",
   "execution_count": 1,
   "metadata": {},
   "outputs": [
    {
     "data": {
      "application/vnd.jupyter.widget-view+json": {
       "model_id": "bc6f6a1c25e0430f85a6bcb97d52abef",
       "version_major": 2,
       "version_minor": 0
      },
      "text/plain": [
       "1_Pooling/config.json:   0%|          | 0.00/190 [00:00<?, ?B/s]"
      ]
     },
     "metadata": {},
     "output_type": "display_data"
    },
    {
     "name": "stderr",
     "output_type": "stream",
     "text": [
      "c:\\Users\\CATURWARGA COMPUTER\\AppData\\Local\\Programs\\Python\\Python39\\lib\\site-packages\\huggingface_hub\\file_download.py:157: UserWarning: `huggingface_hub` cache-system uses symlinks by default to efficiently store duplicated files but your machine does not support them in C:\\Users\\CATURWARGA COMPUTER\\.cache\\huggingface\\hub\\models--sentence-transformers--all-MiniLM-L6-v2. Caching files will still work but in a degraded version that might require more space on your disk. This warning can be disabled by setting the `HF_HUB_DISABLE_SYMLINKS_WARNING` environment variable. For more details, see https://huggingface.co/docs/huggingface_hub/how-to-cache#limitations.\n",
      "To support symlinks on Windows, you either need to activate Developer Mode or to run Python as an administrator. In order to see activate developer mode, see this article: https://docs.microsoft.com/en-us/windows/apps/get-started/enable-your-device-for-development\n",
      "  warnings.warn(message)\n"
     ]
    },
    {
     "data": {
      "application/vnd.jupyter.widget-view+json": {
       "model_id": "a2b3114434944536aef6f95082444eb5",
       "version_major": 2,
       "version_minor": 0
      },
      "text/plain": [
       "config.json:   0%|          | 0.00/612 [00:00<?, ?B/s]"
      ]
     },
     "metadata": {},
     "output_type": "display_data"
    },
    {
     "data": {
      "application/vnd.jupyter.widget-view+json": {
       "model_id": "899325aafc6347a5bd16eb1e472f6322",
       "version_major": 2,
       "version_minor": 0
      },
      "text/plain": [
       "model.safetensors:   0%|          | 0.00/90.9M [00:00<?, ?B/s]"
      ]
     },
     "metadata": {},
     "output_type": "display_data"
    },
    {
     "data": {
      "application/vnd.jupyter.widget-view+json": {
       "model_id": "02ab399070a34b50a05ea35901259a53",
       "version_major": 2,
       "version_minor": 0
      },
      "text/plain": [
       "tokenizer_config.json:   0%|          | 0.00/350 [00:00<?, ?B/s]"
      ]
     },
     "metadata": {},
     "output_type": "display_data"
    },
    {
     "data": {
      "application/vnd.jupyter.widget-view+json": {
       "model_id": "165a4376b3144de5b633f368247e8e2c",
       "version_major": 2,
       "version_minor": 0
      },
      "text/plain": [
       "vocab.txt:   0%|          | 0.00/232k [00:00<?, ?B/s]"
      ]
     },
     "metadata": {},
     "output_type": "display_data"
    },
    {
     "data": {
      "application/vnd.jupyter.widget-view+json": {
       "model_id": "5f03984dc1654500bcdc63d041305638",
       "version_major": 2,
       "version_minor": 0
      },
      "text/plain": [
       "tokenizer.json:   0%|          | 0.00/466k [00:00<?, ?B/s]"
      ]
     },
     "metadata": {},
     "output_type": "display_data"
    },
    {
     "data": {
      "application/vnd.jupyter.widget-view+json": {
       "model_id": "314c84ed52f048e1945a824523ac80c0",
       "version_major": 2,
       "version_minor": 0
      },
      "text/plain": [
       "special_tokens_map.json:   0%|          | 0.00/112 [00:00<?, ?B/s]"
      ]
     },
     "metadata": {},
     "output_type": "display_data"
    },
    {
     "name": "stdout",
     "output_type": "stream",
     "text": [
      "[(7941, 0.6632850766181946), (8762, 0.6416265368461609), (4038, 0.6408390998840332), (8746, 0.621563196182251), (7324, 0.6195975542068481)]\n",
      "['Assault Rear Camera Lens Protector| Back Camera Guard for Oppo F19s Mobile - Transparent (Pack of 2)', 'PUTTHO Camera lens protector guard for Xiaomi Redmi Note 10 Pro Max - Transparent, Pack of 2 | packof2cameralensa2133', 'KAKASA® Camera Lens Lens Protector Glass Screen Protector for Redmi MI Note 9 Pro/Note 9 Pro Max Transparent -Pack 1', 'TRIPOC Apple iPhone X / 10 HD+ Camera Lens Protector for Apple iPhone X / 10', 'AtOdds? Samsung Galaxy A03 Mobile Back Skin Rear Screen Guard Protector Film Wrap with Camera Protector (Coverage - Only for Back & Camera) (Dark Glow)']\n"
     ]
    }
   ],
   "source": [
    "import txtai\n",
    "import numpy as np\n",
    "import pandas as pd\n",
    "\n",
    "np.random.seed(1)\n",
    "\n",
    "df = pd.read_csv('./train.csv')\n",
    "\n",
    "titles = df.dropna().sample(10000).TITLE.values\n",
    "\n",
    "embeddings = txtai.Embeddings({\n",
    "    'path': 'sentence-transformers/all-MiniLM-L6-v2'\n",
    "})\n",
    "\n",
    "embeddings.index(titles)\n",
    "\n",
    "embeddings.save('embeddings.tar.gz')\n",
    "\n",
    "result = embeddings.search('protector for camera',5)\n",
    "\n",
    "print(result)\n",
    "\n",
    "actual_results = [titles[x[0]] for x in result]\n",
    "\n",
    "print(actual_results)\n"
   ]
  },
  {
   "cell_type": "code",
   "execution_count": 3,
   "metadata": {},
   "outputs": [],
   "source": [
    "import txtai\n",
    "import numpy as np\n",
    "import pandas as pd\n",
    "\n",
    "np.random.seed(1)\n",
    "\n",
    "df = pd.read_csv('./seth-data.csv').dropna()\n",
    "content = df.content_plain.values\n",
    "\n",
    "embeddings = txtai.Embeddings({\n",
    "    'path': 'sentence-transformers/all-MiniLM-L6-v2'\n",
    "})\n",
    "\n",
    "embeddings.index(content)\n",
    "embeddings.save('embeddings-seth.tar.gz')\n"
   ]
  },
  {
   "cell_type": "code",
   "execution_count": null,
   "metadata": {},
   "outputs": [],
   "source": []
  }
 ],
 "metadata": {
  "kernelspec": {
   "display_name": "Python 3",
   "language": "python",
   "name": "python3"
  },
  "language_info": {
   "codemirror_mode": {
    "name": "ipython",
    "version": 3
   },
   "file_extension": ".py",
   "mimetype": "text/x-python",
   "name": "python",
   "nbconvert_exporter": "python",
   "pygments_lexer": "ipython3",
   "version": "3.9.2"
  }
 },
 "nbformat": 4,
 "nbformat_minor": 2
}
